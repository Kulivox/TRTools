{
 "cells": [
  {
   "cell_type": "code",
   "execution_count": 4,
   "metadata": {},
   "outputs": [
    {
     "name": "stdout",
     "output_type": "stream",
     "text": [
      "Populating the interactive namespace from numpy and matplotlib\n"
     ]
    }
   ],
   "source": [
    "%pylab inline\n",
    "import pandas as pd\n",
    "import json\n",
    "import numpy as np\n",
    "import gspread\n",
    "from oauth2client.service_account import ServiceAccountCredentials\n",
    "scope = ['https://spreadsheets.google.com/feeds',\n",
    "         'https://www.googleapis.com/auth/drive']\n",
    "\n",
    "credentials = ServiceAccountCredentials.from_json_keyfile_name(\n",
    "    '/storage/mgymrek/workspace/capillary-electrophoresis-webserver/capillaryelectrophoresis-e683d5dd37a2.json', scope)\n",
    "gc = gspread.authorize(credentials)\n",
    "\n",
    "def LoadGSheet(wks):\n",
    "    data = wks.get_all_values()\n",
    "    headers = data.pop(0)\n",
    "    return pd.DataFrame(data, columns=headers)"
   ]
  },
  {
   "cell_type": "code",
   "execution_count": 8,
   "metadata": {},
   "outputs": [],
   "source": [
    "############### Load list of loci to consider ###########\n",
    "loci = pd.read_csv('../data/csv/1000g_loci.csv')\n",
    "primer_ids = set(loci[\"LocusID\"])"
   ]
  },
  {
   "cell_type": "code",
   "execution_count": 45,
   "metadata": {},
   "outputs": [],
   "source": [
    "############### Load product sizes from google sheet ###########\n",
    "psdata = LoadGSheet(gc.open(\"1000GenomesRepeatValidationDatabase\").worksheet(\"product size\"))\n",
    "psdata = psdata[psdata[\"PrimerID\"].isin(primer_ids)][[\"PrimerID\",\"SampleID\",\"Product size\"]]\n",
    "psdata.columns = [\"PrimerID\", \"SampleID\",\"ProductSize\"]\n",
    "psdata[\"SampleID\"] = psdata[\"SampleID\"].apply(lambda x: x.strip())\n",
    "\n",
    "# Sample product sizes\n",
    "samp_prod_sizes = psdata[~psdata[\"SampleID\"].isin([\"Reference\", \"reference\"])]\n",
    "samp_prod_sizes = samp_prod_sizes[samp_prod_sizes[\"ProductSize\"].apply(lambda x: \"/\" in x and x.split(\"/\")[1].strip() != \"\")]\n",
    "samp_prod_sizes[[\"prd_size_1\", \"prd_size_2\"]] = samp_prod_sizes[\"ProductSize\"].str.split('/', expand=True)[[0,1]].astype(float).round(0)\n"
   ]
  },
  {
   "cell_type": "code",
   "execution_count": 65,
   "metadata": {},
   "outputs": [],
   "source": [
    "############### Load ref product sizes ###########\n",
    "ref_prod_sizes = LoadGSheet(gc.open(\"1000GenomesRepeatValidationDatabase\").worksheet(\"RefProductSizes\"))"
   ]
  },
  {
   "cell_type": "code",
   "execution_count": 36,
   "metadata": {},
   "outputs": [],
   "source": [
    "############### Load product sizes from VCFs ###########\n",
    "# load json for gangstr\n",
    "with open('../data/json/gangstr_calls.json', 'r') as f:\n",
    "    gangstr_calls = json.load(f)\n",
    "# load json for hipstr\n",
    "with open('../data/json/hipstr_calls.json', 'r') as f:\n",
    "    hipstr_calls = json.load(f)"
   ]
  },
  {
   "cell_type": "code",
   "execution_count": 72,
   "metadata": {
    "scrolled": false
   },
   "outputs": [
    {
     "name": "stdout",
     "output_type": "stream",
     "text": [
      "\n",
      ">> SCA1 offset=-3/-3 nummatch=53/61\n",
      "\n"
     ]
    },
    {
     "data": {
      "image/png": "[encoded data removed]",
      "text/plain": [
       "<Figure size 720x288 with 3 Axes>"
      ]
     },
     "metadata": {
      "needs_background": "light"
     },
     "output_type": "display_data"
    }
   ],
   "source": [
    "# Y = X + offset\n",
    "def find_offset (X, Y, period):\n",
    "    newX = [X[i] for i in range(len(X)) if not np.isnan(Y[i])]\n",
    "    newY = [item for item in Y if not np.isnan(item)]\n",
    "    \n",
    "    if len(newX) == 0: return np.nan, np.nan, np.nan\n",
    "    # measure: diffs in sizes\n",
    "    most_matches = -10\n",
    "    best_diffs = 100000\n",
    "    best_offset = -1000\n",
    "    for offset in range(-30,30):\n",
    "        x_plus_off = [x + offset for x in newX]\n",
    "        \n",
    "        # Get matches after round to nearest repeat unit\n",
    "        rounded_x = [round(item/period) for item in x_plus_off]\n",
    "        rounded_y = [round(item/period) for item in newY]\n",
    "        num_matches = sum(np.equal(rounded_x, rounded_y))\n",
    "        \n",
    "        # Get diffs. Take top %percentile since we don't know how many calls are wrong\n",
    "        diffs = [abs(x_plus_off[i]-newY[i]) for i in range(len(x_plus_off))]\n",
    "        diff = np.max(sorted(diffs)[0:10]) #np.median(diffs)\n",
    "        \n",
    "        if diff < best_diffs:\n",
    "            best_diffs = diff\n",
    "            best_offset = offset\n",
    "            most_matches = num_matches\n",
    "    return best_offset, most_matches, best_diffs\n",
    "\n",
    "for PrimerID in [\"SCA1\"]: #set(ref_prod_sizes[\"PrimerID\"]):\n",
    "    try:\n",
    "        period = len(loci[loci[\"LocusID\"]==PrimerID][\"Motif\"].values[0])\n",
    "    except:\n",
    "        print(\"************couldn't find motif for %s\"%PrimerID)\n",
    "        continue\n",
    "    ref_prod_size = ref_prod_sizes[ref_prod_sizes[\"PrimerID\"]==PrimerID][\"ProductSize\"].values[0]    \n",
    "    samp_loc_prod_sizes = samp_prod_sizes[samp_prod_sizes[\"PrimerID\"]==PrimerID]\n",
    "    \n",
    "    X = [] # product size from capillary\n",
    "    Y_gstr = [] # product size from gangstr\n",
    "    Y_hstr = [] # product size from hipstr\n",
    "    samples = [] # sample list\n",
    "    \n",
    "    for sample in list(samp_loc_prod_sizes[\"SampleID\"]):\n",
    "        # Extract capillary data\n",
    "        cap_prod_sizes = list(samp_loc_prod_sizes.set_index('SampleID').loc[sample][['prd_size_1', 'prd_size_2']])\n",
    "        \n",
    "        if \"prd_size_1\" in cap_prod_sizes: continue\n",
    "        gb_cap = sorted([float(i) - float(ref_prod_size) for i in cap_prod_sizes])\n",
    "        if sum(np.isnan(gb_cap)) > 0: continue \n",
    "        X.extend(gb_cap)\n",
    "        samples.extend([sample]*2)\n",
    "\n",
    "        # Extract gangstr and hipstr data\n",
    "        try:\n",
    "            gb_gstr = sorted([float(i) for i in gangstr_calls[PrimerID][sample]['gb'].split(',')])\n",
    "        except: gb_gstr = [np.nan, np.nan]\n",
    "        if len(gb_gstr) == 1: gb_gstr = [gb_gstr[0]]*2 # for chrX ones\n",
    "        Y_gstr.extend(gb_gstr)\n",
    "            \n",
    "        try:\n",
    "            gb_hstr = sorted([float(i) for i in hipstr_calls[PrimerID][sample]['gb'].split(',')])\n",
    "        except:\n",
    "            gb_hstr = [np.nan, np.nan]\n",
    "        Y_hstr.extend(gb_hstr)  \n",
    "        \n",
    "    if len(X) == 0: continue\n",
    "    offset_gstr, num_matches_gstr, diff_gstr = find_offset(X, Y_gstr, period)\n",
    "    offset_hstr, num_matches_hstr, diff_hstr = find_offset(X, Y_hstr, period)\n",
    "\n",
    "    print(f'\\n>> {PrimerID} offset={offset_gstr}/{offset_hstr} nummatch={num_matches_gstr}/{num_matches_hstr}\\n')\n",
    "\n",
    "    xvals = [np.min(X), np.max(X)]\n",
    "    fig = plt.figure()\n",
    "    fig.set_size_inches((10, 4))\n",
    "    ax = fig.add_subplot(131)\n",
    "    ax.set_title(PrimerID + \" %s\"%offset_gstr)\n",
    "    ax.set_xlabel(\"Capillary\")\n",
    "    ax.set_ylabel(\"GangSTR\")\n",
    "    ax.scatter(X, Y_gstr, alpha=0.2)\n",
    "    Y_offset = [item+offset_gstr for item in xvals]\n",
    "    ax.plot(xvals, Y_offset)\n",
    "    \n",
    "    ax = fig.add_subplot(132)\n",
    "    ax.set_title(PrimerID + \" %s\"%offset_hstr)\n",
    "    ax.set_xlabel(\"Capillary\")\n",
    "    ax.set_ylabel(\"HipSTR\")\n",
    "    ax.scatter(X, Y_hstr, alpha=0.2)\n",
    "    Y_offset = [item+offset_hstr for item in xvals]\n",
    "    ax.plot(xvals, Y_offset)\n",
    "    \n",
    "    ax = fig.add_subplot(133)\n",
    "    ax.set_title(PrimerID)\n",
    "    ax.set_xlabel(\"GangSTR\")\n",
    "    ax.set_ylabel(\"HipSTR\")\n",
    "    ax.scatter(Y_gstr, Y_hstr, alpha=0.2)\n",
    "    Y_offset = xvals\n",
    "    ax.plot(xvals, Y_offset)\n",
    "\n",
    "    fig.tight_layout()"
   ]
  }
 ],
 "metadata": {
  "kernelspec": {
   "display_name": "Python 3",
   "language": "python",
   "name": "python3"
  },
  "language_info": {
   "codemirror_mode": {
    "name": "ipython",
    "version": 3
   },
   "file_extension": ".py",
   "mimetype": "text/x-python",
   "name": "python",
   "nbconvert_exporter": "python",
   "pygments_lexer": "ipython3",
   "version": "3.7.4"
  }
 },
 "nbformat": 4,
 "nbformat_minor": 5
}
